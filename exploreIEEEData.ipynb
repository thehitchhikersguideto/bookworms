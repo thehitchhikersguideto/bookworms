{
 "cells": [
  {
   "cell_type": "code",
   "execution_count": 333,
   "metadata": {},
   "outputs": [
    {
     "name": "stdout",
     "output_type": "stream",
     "text": [
      "(2011, 4)\n",
      "(133, 8)\n"
     ]
    }
   ],
   "source": [
    "import pandas as pd\n",
    "import numpy as np\n",
    "import matplotlib.pyplot as plt\n",
    "import seaborn as sns\n",
    "\n",
    "# Read in the data\n",
    "basicDF = pd.read_csv('Basic_Information.csv', sep = ';')\n",
    "measurementsDF = pd.read_csv('Body_Measurements.csv', sep = ';', usecols=['Subject', 'Waist girth', 'Hip girth', 'Neck girth' ])\n",
    "print(measurementsDF.shape)\n",
    "print(basicDF.shape)\n"
   ]
  },
  {
   "cell_type": "code",
   "execution_count": 334,
   "metadata": {},
   "outputs": [],
   "source": [
    "# View full data with scroll bars\n",
    "pd.set_option('display.max_rows', None)\n",
    "pd.set_option('display.max_columns', None)\n",
    "pd.set_option('display.width', None)\n",
    "pd.set_option('display.max_colwidth', None)"
   ]
  },
  {
   "cell_type": "code",
   "execution_count": 335,
   "metadata": {},
   "outputs": [],
   "source": [
    "# Drop columns Phase, Pantone\n",
    "basicDF = basicDF.drop(['Phase', 'Pantone'], axis=1)"
   ]
  },
  {
   "cell_type": "code",
   "execution_count": 336,
   "metadata": {},
   "outputs": [
    {
     "name": "stdout",
     "output_type": "stream",
     "text": [
      "Subject         0\n",
      "Sex             0\n",
      "Age (years)     0\n",
      "Weight (kg)     0\n",
      "Height (m)      0\n",
      "BMI (kg/m^2)    0\n",
      "dtype: int64\n",
      "Subject         0\n",
      "Neck girth     10\n",
      "Waist girth    10\n",
      "Hip girth      10\n",
      "dtype: int64\n"
     ]
    }
   ],
   "source": [
    "# Check for missing values\n",
    "print(basicDF.isnull().sum())\n",
    "print(measurementsDF.isnull().sum())\n",
    "\n",
    "# Drop the missing values\n",
    "basicDF = basicDF.dropna()\n",
    "measurementsDF = measurementsDF.dropna()\n"
   ]
  },
  {
   "cell_type": "code",
   "execution_count": 337,
   "metadata": {},
   "outputs": [],
   "source": [
    "# Print the counts for each Subject if the count is higher than 1\n",
    "#print(measurementsDF['Subject'].value_counts()[measurementsDF['Subject'].value_counts() > 1])"
   ]
  },
  {
   "cell_type": "code",
   "execution_count": 338,
   "metadata": {},
   "outputs": [
    {
     "data": {
      "text/plain": [
       "(133, 3)"
      ]
     },
     "execution_count": 338,
     "metadata": {},
     "output_type": "execute_result"
    }
   ],
   "source": [
    "# It seems like the waist measurements are in mm and for every patient there are two measurements representing a small variance in the measurement. We will take the average of the two measurements for each patient.\n",
    "measurementsDF = measurementsDF.groupby('Subject').mean()\n",
    "measurementsDF.head()\n",
    "measurementsDF.shape\n"
   ]
  },
  {
   "cell_type": "code",
   "execution_count": 339,
   "metadata": {},
   "outputs": [
    {
     "name": "stdout",
     "output_type": "stream",
     "text": [
      "(133, 9)\n"
     ]
    },
    {
     "data": {
      "text/html": [
       "<div>\n",
       "<style scoped>\n",
       "    .dataframe tbody tr th:only-of-type {\n",
       "        vertical-align: middle;\n",
       "    }\n",
       "\n",
       "    .dataframe tbody tr th {\n",
       "        vertical-align: top;\n",
       "    }\n",
       "\n",
       "    .dataframe thead th {\n",
       "        text-align: right;\n",
       "    }\n",
       "</style>\n",
       "<table border=\"1\" class=\"dataframe\">\n",
       "  <thead>\n",
       "    <tr style=\"text-align: right;\">\n",
       "      <th></th>\n",
       "      <th>Subject</th>\n",
       "      <th>Sex</th>\n",
       "      <th>Age (years)</th>\n",
       "      <th>Weight (kg)</th>\n",
       "      <th>Height (m)</th>\n",
       "      <th>BMI (kg/m^2)</th>\n",
       "      <th>Neck girth</th>\n",
       "      <th>Waist girth</th>\n",
       "      <th>Hip girth</th>\n",
       "    </tr>\n",
       "  </thead>\n",
       "  <tbody>\n",
       "    <tr>\n",
       "      <th>0</th>\n",
       "      <td>IEEEP1_12</td>\n",
       "      <td>female</td>\n",
       "      <td>23</td>\n",
       "      <td>51.1</td>\n",
       "      <td>1.610</td>\n",
       "      <td>19.713746</td>\n",
       "      <td>301.924750</td>\n",
       "      <td>660.366167</td>\n",
       "      <td>937.348167</td>\n",
       "    </tr>\n",
       "    <tr>\n",
       "      <th>1</th>\n",
       "      <td>IEEEP1_14</td>\n",
       "      <td>female</td>\n",
       "      <td>19</td>\n",
       "      <td>83.5</td>\n",
       "      <td>1.690</td>\n",
       "      <td>29.235671</td>\n",
       "      <td>377.904417</td>\n",
       "      <td>970.670083</td>\n",
       "      <td>1056.706000</td>\n",
       "    </tr>\n",
       "    <tr>\n",
       "      <th>2</th>\n",
       "      <td>IEEEP1_13</td>\n",
       "      <td>female</td>\n",
       "      <td>18</td>\n",
       "      <td>66.6</td>\n",
       "      <td>1.686</td>\n",
       "      <td>23.429288</td>\n",
       "      <td>339.186333</td>\n",
       "      <td>746.001917</td>\n",
       "      <td>1023.511417</td>\n",
       "    </tr>\n",
       "    <tr>\n",
       "      <th>3</th>\n",
       "      <td>IEEEP1_15</td>\n",
       "      <td>male</td>\n",
       "      <td>31</td>\n",
       "      <td>82.5</td>\n",
       "      <td>1.778</td>\n",
       "      <td>26.096991</td>\n",
       "      <td>395.601083</td>\n",
       "      <td>921.519417</td>\n",
       "      <td>1041.340750</td>\n",
       "    </tr>\n",
       "    <tr>\n",
       "      <th>4</th>\n",
       "      <td>IEEEP1_18</td>\n",
       "      <td>male</td>\n",
       "      <td>26</td>\n",
       "      <td>67.5</td>\n",
       "      <td>1.663</td>\n",
       "      <td>24.407274</td>\n",
       "      <td>380.223833</td>\n",
       "      <td>813.314583</td>\n",
       "      <td>1003.087250</td>\n",
       "    </tr>\n",
       "  </tbody>\n",
       "</table>\n",
       "</div>"
      ],
      "text/plain": [
       "     Subject      Sex  Age (years)  Weight (kg)  Height (m)  BMI (kg/m^2)  \\\n",
       "0  IEEEP1_12  female            23         51.1       1.610     19.713746   \n",
       "1  IEEEP1_14  female            19         83.5       1.690     29.235671   \n",
       "2  IEEEP1_13  female            18         66.6       1.686     23.429288   \n",
       "3  IEEEP1_15     male           31         82.5       1.778     26.096991   \n",
       "4  IEEEP1_18     male           26         67.5       1.663     24.407274   \n",
       "\n",
       "   Neck girth  Waist girth    Hip girth  \n",
       "0  301.924750   660.366167   937.348167  \n",
       "1  377.904417   970.670083  1056.706000  \n",
       "2  339.186333   746.001917  1023.511417  \n",
       "3  395.601083   921.519417  1041.340750  \n",
       "4  380.223833   813.314583  1003.087250  "
      ]
     },
     "execution_count": 339,
     "metadata": {},
     "output_type": "execute_result"
    }
   ],
   "source": [
    "# Merge the two dataframes\n",
    "mergedDF = pd.merge(basicDF, measurementsDF, on='Subject')\n",
    "print(mergedDF.shape)\n",
    "mergedDF.head()"
   ]
  },
  {
   "cell_type": "code",
   "execution_count": 340,
   "metadata": {},
   "outputs": [
    {
     "name": "stderr",
     "output_type": "stream",
     "text": [
      "C:\\Users\\zrbev\\AppData\\Local\\Temp\\ipykernel_10948\\769782461.py:3: FutureWarning: The default value of regex will change from True to False in a future version.\n",
      "  mergedDF.columns = mergedDF.columns.str.replace(r\"\\(.*\\)\",\"\")\n"
     ]
    },
    {
     "data": {
      "text/plain": [
       "Index(['subject', 'gender', 'age', 'weight', 'height', 'bmi', 'neck', 'waist',\n",
       "       'hip'],\n",
       "      dtype='object')"
      ]
     },
     "execution_count": 340,
     "metadata": {},
     "output_type": "execute_result"
    }
   ],
   "source": [
    "# Simplify the column names\n",
    "# First remove anything inside parentheses\n",
    "mergedDF.columns = mergedDF.columns.str.replace(r\"\\(.*\\)\",\"\")\n",
    "# Then replac any spaces with underscores if there is more than one word\n",
    "mergedDF.columns = mergedDF.columns.str.replace(\" \",\"\")\n",
    "# Make lower case\n",
    "mergedDF.columns = mergedDF.columns.str.lower()\n",
    "# Change column waistgirth to waist\n",
    "mergedDF = mergedDF.rename(columns={'waistgirth':'waist'})\n",
    "# Change column hipgirth to hip\n",
    "mergedDF = mergedDF.rename(columns={'hipgirth':'hip'})\n",
    "# Change column neckgirth to neck\n",
    "mergedDF = mergedDF.rename(columns={'neckgirth':'neck'})\n",
    "\n",
    "# Change column sex to gender\n",
    "mergedDF = mergedDF.rename(columns={'sex':'gender'})\n",
    "\n",
    "# Change male / female in gender column to 0 / 1\n",
    "mergedDF = mergedDF.replace('male', 0)\n",
    "mergedDF = mergedDF.replace('female ', 1)\n",
    "mergedDF = mergedDF.replace('female', 1)\n",
    "\n",
    "# Show column names\n",
    "mergedDF.columns"
   ]
  },
  {
   "cell_type": "code",
   "execution_count": 341,
   "metadata": {},
   "outputs": [],
   "source": [
    "# We need our units to be in KG and CM\n",
    "# Convert height from m to cm \n",
    "mergedDF['height'] = mergedDF['height']*100\n",
    "\n",
    "# Convert waist from mm to cm \n",
    "mergedDF['waist'] = mergedDF['waist']/10\n",
    "# Convert hip from mm to cm\n",
    "mergedDF['hip'] = mergedDF['hip']/10\n",
    "# Convert neck from mm to cm\n",
    "mergedDF['neck'] = mergedDF['neck']/10"
   ]
  },
  {
   "cell_type": "code",
   "execution_count": 342,
   "metadata": {},
   "outputs": [
    {
     "data": {
      "text/html": [
       "<div>\n",
       "<style scoped>\n",
       "    .dataframe tbody tr th:only-of-type {\n",
       "        vertical-align: middle;\n",
       "    }\n",
       "\n",
       "    .dataframe tbody tr th {\n",
       "        vertical-align: top;\n",
       "    }\n",
       "\n",
       "    .dataframe thead th {\n",
       "        text-align: right;\n",
       "    }\n",
       "</style>\n",
       "<table border=\"1\" class=\"dataframe\">\n",
       "  <thead>\n",
       "    <tr style=\"text-align: right;\">\n",
       "      <th></th>\n",
       "      <th>subject</th>\n",
       "      <th>gender</th>\n",
       "      <th>age</th>\n",
       "      <th>weight</th>\n",
       "      <th>height</th>\n",
       "      <th>bmi</th>\n",
       "      <th>neck</th>\n",
       "      <th>waist</th>\n",
       "      <th>hip</th>\n",
       "    </tr>\n",
       "  </thead>\n",
       "  <tbody>\n",
       "    <tr>\n",
       "      <th>0</th>\n",
       "      <td>IEEEP1_12</td>\n",
       "      <td>1</td>\n",
       "      <td>23</td>\n",
       "      <td>51.1</td>\n",
       "      <td>161.0</td>\n",
       "      <td>19.713746</td>\n",
       "      <td>30.192475</td>\n",
       "      <td>66.036617</td>\n",
       "      <td>93.734817</td>\n",
       "    </tr>\n",
       "    <tr>\n",
       "      <th>1</th>\n",
       "      <td>IEEEP1_14</td>\n",
       "      <td>1</td>\n",
       "      <td>19</td>\n",
       "      <td>83.5</td>\n",
       "      <td>169.0</td>\n",
       "      <td>29.235671</td>\n",
       "      <td>37.790442</td>\n",
       "      <td>97.067008</td>\n",
       "      <td>105.670600</td>\n",
       "    </tr>\n",
       "    <tr>\n",
       "      <th>2</th>\n",
       "      <td>IEEEP1_13</td>\n",
       "      <td>1</td>\n",
       "      <td>18</td>\n",
       "      <td>66.6</td>\n",
       "      <td>168.6</td>\n",
       "      <td>23.429288</td>\n",
       "      <td>33.918633</td>\n",
       "      <td>74.600192</td>\n",
       "      <td>102.351142</td>\n",
       "    </tr>\n",
       "    <tr>\n",
       "      <th>3</th>\n",
       "      <td>IEEEP1_15</td>\n",
       "      <td>0</td>\n",
       "      <td>31</td>\n",
       "      <td>82.5</td>\n",
       "      <td>177.8</td>\n",
       "      <td>26.096991</td>\n",
       "      <td>39.560108</td>\n",
       "      <td>92.151942</td>\n",
       "      <td>104.134075</td>\n",
       "    </tr>\n",
       "    <tr>\n",
       "      <th>4</th>\n",
       "      <td>IEEEP1_18</td>\n",
       "      <td>0</td>\n",
       "      <td>26</td>\n",
       "      <td>67.5</td>\n",
       "      <td>166.3</td>\n",
       "      <td>24.407274</td>\n",
       "      <td>38.022383</td>\n",
       "      <td>81.331458</td>\n",
       "      <td>100.308725</td>\n",
       "    </tr>\n",
       "  </tbody>\n",
       "</table>\n",
       "</div>"
      ],
      "text/plain": [
       "     subject  gender  age  weight  height        bmi       neck      waist  \\\n",
       "0  IEEEP1_12       1   23    51.1   161.0  19.713746  30.192475  66.036617   \n",
       "1  IEEEP1_14       1   19    83.5   169.0  29.235671  37.790442  97.067008   \n",
       "2  IEEEP1_13       1   18    66.6   168.6  23.429288  33.918633  74.600192   \n",
       "3  IEEEP1_15       0   31    82.5   177.8  26.096991  39.560108  92.151942   \n",
       "4  IEEEP1_18       0   26    67.5   166.3  24.407274  38.022383  81.331458   \n",
       "\n",
       "          hip  \n",
       "0   93.734817  \n",
       "1  105.670600  \n",
       "2  102.351142  \n",
       "3  104.134075  \n",
       "4  100.308725  "
      ]
     },
     "execution_count": 342,
     "metadata": {},
     "output_type": "execute_result"
    }
   ],
   "source": [
    "mergedDF.head()"
   ]
  },
  {
   "cell_type": "code",
   "execution_count": 343,
   "metadata": {},
   "outputs": [],
   "source": [
    "# Export the merged dataframe to a csv file\n",
    "mergedDF.to_csv('mergedDF.csv', index=False)"
   ]
  }
 ],
 "metadata": {
  "kernelspec": {
   "display_name": ".venv",
   "language": "python",
   "name": "python3"
  },
  "language_info": {
   "codemirror_mode": {
    "name": "ipython",
    "version": 3
   },
   "file_extension": ".py",
   "mimetype": "text/x-python",
   "name": "python",
   "nbconvert_exporter": "python",
   "pygments_lexer": "ipython3",
   "version": "3.9.7"
  },
  "orig_nbformat": 4,
  "vscode": {
   "interpreter": {
    "hash": "a2c7064500d0a13f6d2af45153c867443dbca0fe4b150abfbfd2793cf2ef4f19"
   }
  }
 },
 "nbformat": 4,
 "nbformat_minor": 2
}
