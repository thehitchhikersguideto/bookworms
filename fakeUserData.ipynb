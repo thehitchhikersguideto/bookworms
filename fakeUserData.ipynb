{
 "cells": [
  {
   "cell_type": "code",
   "execution_count": 7,
   "metadata": {},
   "outputs": [],
   "source": [
    "# The goal is to create fake but believable data for the purpose of testing\n",
    "# The dataset will be based on a range of people using the gym, data points will include\n",
    "# - Gender - Male / Feamle\n",
    "# - Age - 18 - 65\n",
    "# - Height - 5'0\" - 6'6\"\n",
    "# - Weight - 100 - 300 lbs\n",
    "# - BMI - Calculate from height and weight\n",
    "# - Experience - 0 - 10 years - categorized into Beginner, Intermediate, Expert\n",
    "# - Avaiilability - 0 - 7 days a week\n",
    "# - Goals - Weight Loss, Muscle Gain, Maintain Weight, Flexibility\n",
    "# - Membership - Boolean - True / False\n",
    "\n",
    "# The dataset will be based on an existing dataset from Kaggle\n",
    "# https://www.kaggle.com/datasets/thedevastator/exploring-risk-factors-for-cardiovascular-diseas?resource=download\n",
    "# The dataset is based on a range of people with cardiovascular disease\n"
   ]
  },
  {
   "cell_type": "code",
   "execution_count": 8,
   "metadata": {},
   "outputs": [],
   "source": [
    "import pandas as pd\n",
    "import numpy as np\n",
    "import random\n"
   ]
  },
  {
   "cell_type": "code",
   "execution_count": 9,
   "metadata": {},
   "outputs": [],
   "source": [
    "# To begin we want to filter out all the data that is not relevant to our dataset\n",
    "# We will be using the following columns\n",
    "# - age\n",
    "# - height\n",
    "# - weight\n",
    "# - gender\n",
    "\n",
    "# We will also be creating the following columns\n",
    "# - BMI\n",
    "# - Experience\n",
    "# - Availability\n",
    "# - Goals\n",
    "# - Membership\n",
    "# - User ID"
   ]
  },
  {
   "cell_type": "code",
   "execution_count": 13,
   "metadata": {},
   "outputs": [
    {
     "data": {
      "text/plain": [
       "count    70000.000000\n",
       "mean        53.339358\n",
       "std          6.759594\n",
       "min         29.583562\n",
       "25%         48.394521\n",
       "50%         53.980822\n",
       "75%         58.430137\n",
       "max         64.967123\n",
       "Name: age, dtype: float64"
      ]
     },
     "execution_count": 13,
     "metadata": {},
     "output_type": "execute_result"
    }
   ],
   "source": [
    "# Exploring the data\n",
    "df = pd.read_csv('heart_data.csv')\n",
    "df.head()\n",
    "\n"
   ]
  },
  {
   "cell_type": "code",
   "execution_count": 11,
   "metadata": {},
   "outputs": [],
   "source": [
    "# Drop columns that are not relevant to our dataset\n",
    "def dropColumns(df):\n",
    "    df.drop(['id', 'ap_hi', 'ap_lo', 'cholesterol', 'gluc', 'smoke', 'alco', 'active', 'cardio'], axis=1, inplace=True)\n",
    "    return df\n",
    "\n",
    "# Add all our new columns to the dataset, all data except for BMI will be random\n",
    "def addColumns(df):\n",
    "    df['BMI'] = np.nan\n",
    "    df['Experience'] = np.nan\n",
    "    df['Availability'] = np.nan\n",
    "    df['Goals'] = np.nan\n",
    "    df['Membership'] = np.nan\n",
    "    df['User ID'] = np.nan\n",
    "    return df\n",
    "\n",
    "# Calculate BMI based on height and weight\n",
    "def calculateBMI(df):\n",
    "    df['BMI'] = df['weight'] / ((df['height'] / 100) ** 2)\n",
    "    return df\n",
    "\n",
    "# Randomly assign a value to the Experience column, Begginer, Intermediate, Expert\n",
    "def assignExperience(df):\n",
    "    df['Experience'] = df['Experience'].apply(lambda x: random.choice(['Beginner', 'Intermediate', 'Expert']))\n",
    "    return df\n",
    "\n",
    "# Randomly assign a value to the Availability column, 0 - 7 days a week\n",
    "def assignAvailability(df):\n",
    "    df['Availability'] = df['Availability'].apply(lambda x: random.randint(0, 7))\n",
    "    return df\n",
    "\n",
    "# Randomly assign a value to the Goals column, Weight Loss, Muscle Gain, Flexibility\n",
    "def assignGoals(df):\n",
    "    df['Goals'] = df['Goals'].apply(lambda x: random.choice(['Weight Loss', 'Muscle Gain', 'Flexibility']))\n",
    "    return df\n",
    "\n",
    "# Randomly assign a value to the Membership column, True / False\n",
    "def assignMembership(df):\n",
    "    df['Membership'] = df['Membership'].apply(lambda x: random.choice([True, False]))\n",
    "    return df\n",
    "\n",
    "# Randomly assign a value to the User ID column, randomly generated 6 digit number\n",
    "def assignUserID(df):\n",
    "    df['User ID'] = df['User ID'].apply(lambda x: random.randint(100000, 999999))\n",
    "    return df\n",
    "\n",
    "# The years column is in days, we want to convert this to years and round to the nearest whole number\n",
    "def convertDaysToYears(df):\n",
    "    df['age'] = df['age'].apply(lambda x: round(x / 365))\n",
    "    return df\n",
    "\n",
    "# Our current ages only range from 29 - 64, we want to expand this to 18 - 65\n",
    "# We will do this by randomly selecting a number between 18 and 29 and adding it to the age\n",
    "# Then replacing a random row with the new age\n",
    "def expandAgeRange(df):\n",
    "    for i in range(0, 1000):\n",
    "        age = random.randint(18, 29)\n",
    "        df['age'] = df['age'].apply(lambda x: x + age)\n",
    "        df['age'] = df['age'].apply(lambda x: random.choice(df['age']))\n",
    "    return df\n",
    "\n"
   ]
  },
  {
   "cell_type": "code",
   "execution_count": 12,
   "metadata": {},
   "outputs": [],
   "source": [
    "# Before running the above functions we need to remove outliers of height and weight based on true values\n"
   ]
  }
 ],
 "metadata": {
  "kernelspec": {
   "display_name": ".venv",
   "language": "python",
   "name": "python3"
  },
  "language_info": {
   "codemirror_mode": {
    "name": "ipython",
    "version": 3
   },
   "file_extension": ".py",
   "mimetype": "text/x-python",
   "name": "python",
   "nbconvert_exporter": "python",
   "pygments_lexer": "ipython3",
   "version": "3.9.7"
  },
  "orig_nbformat": 4,
  "vscode": {
   "interpreter": {
    "hash": "a2c7064500d0a13f6d2af45153c867443dbca0fe4b150abfbfd2793cf2ef4f19"
   }
  }
 },
 "nbformat": 4,
 "nbformat_minor": 2
}
