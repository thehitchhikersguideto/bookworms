{
 "cells": [
  {
   "cell_type": "code",
   "execution_count": 85,
   "metadata": {},
   "outputs": [
    {
     "name": "stdout",
     "output_type": "stream",
     "text": [
      "System version: 3.11.0 (main, Oct 24 2022, 18:26:48) [MSC v.1933 64 bit (AMD64)]\n",
      "Pandas version: 1.5.3\n"
     ]
    }
   ],
   "source": [
    "# set the environment path to find Recommenders\n",
    "import sys\n",
    "\n",
    "import itertools\n",
    "import logging\n",
    "import os\n",
    "\n",
    "import numpy as np\n",
    "import pandas as pd\n",
    "import papermill as pm\n",
    "\n",
    "\n",
    "from recommenders.datasets.python_splitters import python_stratified_split\n",
    "from recommenders.models.sar import SAR\n",
    "from recommenders.evaluation.python_evaluation import map_at_k, ndcg_at_k, precision_at_k, recall_at_k\n",
    "\n",
    "\n",
    "print(\"System version: {}\".format(sys.version))\n",
    "print(\"Pandas version: {}\".format(pd.__version__))"
   ]
  },
  {
   "cell_type": "code",
   "execution_count": 86,
   "metadata": {},
   "outputs": [],
   "source": [
    "TOP_K = 10\n",
    "DATASIZE = '3k'\n"
   ]
  },
  {
   "cell_type": "code",
   "execution_count": 87,
   "metadata": {},
   "outputs": [],
   "source": [
    "#load the user rating data \n",
    "user_rating_data = pd.read_csv('./user_rating_data.csv')\n",
    "user_rating_data.head()\n",
    "\n",
    "user_rating_data.columns = ['user_id', 'age', 'gender', 'exercise', 'rating']\n",
    "user_rating_data['rating'] = user_rating_data['rating'].astype(np.float32)\n"
   ]
  },
  {
   "cell_type": "code",
   "execution_count": 88,
   "metadata": {},
   "outputs": [],
   "source": [
    "\n",
    "\n",
    "def generator_rating_scaling(rating):\n",
    "    # scale the rating to 0-1\n",
    "    #avoid nans\n",
    "    if rating == 0:\n",
    "        yield 0\n",
    "    else:\n",
    "        yield rating/5\n"
   ]
  },
  {
   "cell_type": "code",
   "execution_count": 89,
   "metadata": {},
   "outputs": [
    {
     "data": {
      "text/html": [
       "<div>\n",
       "<style scoped>\n",
       "    .dataframe tbody tr th:only-of-type {\n",
       "        vertical-align: middle;\n",
       "    }\n",
       "\n",
       "    .dataframe tbody tr th {\n",
       "        vertical-align: top;\n",
       "    }\n",
       "\n",
       "    .dataframe thead th {\n",
       "        text-align: right;\n",
       "    }\n",
       "</style>\n",
       "<table border=\"1\" class=\"dataframe\">\n",
       "  <thead>\n",
       "    <tr style=\"text-align: right;\">\n",
       "      <th></th>\n",
       "      <th>user_id</th>\n",
       "      <th>age</th>\n",
       "      <th>gender</th>\n",
       "      <th>exercise</th>\n",
       "      <th>rating</th>\n",
       "    </tr>\n",
       "  </thead>\n",
       "  <tbody>\n",
       "    <tr>\n",
       "      <th>0</th>\n",
       "      <td>98407769-e971-4124-a031-0ddb72780126</td>\n",
       "      <td>37</td>\n",
       "      <td>False</td>\n",
       "      <td>Holman Heavy Double Split Pike</td>\n",
       "      <td>0.0</td>\n",
       "    </tr>\n",
       "    <tr>\n",
       "      <th>1</th>\n",
       "      <td>98fb9f73-5471-4b2b-a63f-3af732bb0304</td>\n",
       "      <td>57</td>\n",
       "      <td>False</td>\n",
       "      <td>Bodyweight Squat - Gethin Variation</td>\n",
       "      <td>0.0</td>\n",
       "    </tr>\n",
       "    <tr>\n",
       "      <th>2</th>\n",
       "      <td>56275ce6-70d1-4d0a-a69e-5515543ebff4</td>\n",
       "      <td>29</td>\n",
       "      <td>True</td>\n",
       "      <td>Cable Overhead Triceps Extension - Gethin Vari...</td>\n",
       "      <td>0.0</td>\n",
       "    </tr>\n",
       "    <tr>\n",
       "      <th>3</th>\n",
       "      <td>62febe82-9255-49a1-a1c5-5d0935979b18</td>\n",
       "      <td>23</td>\n",
       "      <td>False</td>\n",
       "      <td>Bench Press With Short Bands</td>\n",
       "      <td>0.2</td>\n",
       "    </tr>\n",
       "    <tr>\n",
       "      <th>4</th>\n",
       "      <td>39996226-f3a1-46f2-a891-0e4a47e397cd</td>\n",
       "      <td>48</td>\n",
       "      <td>True</td>\n",
       "      <td>Banded compass jump squat</td>\n",
       "      <td>0.6</td>\n",
       "    </tr>\n",
       "  </tbody>\n",
       "</table>\n",
       "</div>"
      ],
      "text/plain": [
       "                                user_id  age  gender  \\\n",
       "0  98407769-e971-4124-a031-0ddb72780126   37   False   \n",
       "1  98fb9f73-5471-4b2b-a63f-3af732bb0304   57   False   \n",
       "2  56275ce6-70d1-4d0a-a69e-5515543ebff4   29    True   \n",
       "3  62febe82-9255-49a1-a1c5-5d0935979b18   23   False   \n",
       "4  39996226-f3a1-46f2-a891-0e4a47e397cd   48    True   \n",
       "\n",
       "                                            exercise  rating  \n",
       "0                     Holman Heavy Double Split Pike     0.0  \n",
       "1                Bodyweight Squat - Gethin Variation     0.0  \n",
       "2  Cable Overhead Triceps Extension - Gethin Vari...     0.0  \n",
       "3                       Bench Press With Short Bands     0.2  \n",
       "4                          Banded compass jump squat     0.6  "
      ]
     },
     "execution_count": 89,
     "metadata": {},
     "output_type": "execute_result"
    }
   ],
   "source": [
    "user_rating_data['rating'] = user_rating_data['rating'].apply(lambda x: next(generator_rating_scaling(x)))\n",
    "user_rating_data.head()"
   ]
  },
  {
   "cell_type": "code",
   "execution_count": 90,
   "metadata": {},
   "outputs": [],
   "source": [
    "train, test = python_stratified_split(user_rating_data, ratio=0.75, col_user=\"user_id\", col_item=\"exercise\", seed=42)"
   ]
  },
  {
   "cell_type": "code",
   "execution_count": 91,
   "metadata": {},
   "outputs": [],
   "source": [
    "\n",
    "\n",
    "header = {\n",
    "    \"col_user\": \"user_id\",\n",
    "    \"col_item\": \"exercise\",\n",
    "    \"col_rating\": \"rating\",\n",
    "    \"col_prediction\": \"prediction\",\n",
    "\n",
    "}\n",
    "\n"
   ]
  },
  {
   "cell_type": "code",
   "execution_count": 92,
   "metadata": {},
   "outputs": [],
   "source": [
    "\n",
    "\n",
    "# set log level to INFO\n",
    "logging.basicConfig(level=logging.DEBUG, \n",
    "                    format='%(asctime)s %(levelname)-8s %(message)s')\n",
    "\n",
    "model = SAR(\n",
    "    similarity_type=\"jaccard\", \n",
    "    time_decay_coefficient=30, \n",
    "    time_now=None, \n",
    "    timedecay_formula=False, \n",
    "    **header\n",
    ")\n",
    "\n",
    "\n"
   ]
  },
  {
   "cell_type": "code",
   "execution_count": 93,
   "metadata": {},
   "outputs": [
    {
     "name": "stderr",
     "output_type": "stream",
     "text": [
      "2023-03-01 02:25:31,144 INFO     Collecting user affinity matrix\n",
      "2023-03-01 02:25:31,145 INFO     Creating index columns\n",
      "2023-03-01 02:25:31,147 INFO     Building user affinity sparse matrix\n",
      "2023-03-01 02:25:31,148 INFO     Calculating item co-occurrence\n",
      "2023-03-01 02:25:31,150 INFO     Calculating item similarity\n",
      "2023-03-01 02:25:31,151 INFO     Using jaccard based similarity\n",
      "2023-03-01 02:25:31,189 INFO     Done training\n"
     ]
    }
   ],
   "source": [
    "model.fit(train)"
   ]
  },
  {
   "cell_type": "code",
   "execution_count": 94,
   "metadata": {},
   "outputs": [
    {
     "name": "stderr",
     "output_type": "stream",
     "text": [
      "2023-03-01 02:25:31,634 INFO     Calculating recommendation scores\n",
      "2023-03-01 02:25:31,640 INFO     Calculating recommendation scores\n",
      "2023-03-01 02:25:31,643 INFO     Removing seen items\n",
      "c:\\Users\\Vera\\OneDrive\\Documents\\SKUWL\\RecommendationSystems\\.venvml\\Lib\\site-packages\\scipy\\sparse\\_data.py:124: RuntimeWarning: invalid value encountered in multiply\n",
      "  return self._with_data(self.data * other)\n"
     ]
    }
   ],
   "source": [
    "top_k_seen = model.recommend_k_items(test, top_k=TOP_K, remove_seen=False)\n",
    "top_k_not_seen = model.recommend_k_items(test, top_k=TOP_K, remove_seen=True)"
   ]
  },
  {
   "cell_type": "code",
   "execution_count": 95,
   "metadata": {},
   "outputs": [
    {
     "data": {
      "text/html": [
       "<div>\n",
       "<style scoped>\n",
       "    .dataframe tbody tr th:only-of-type {\n",
       "        vertical-align: middle;\n",
       "    }\n",
       "\n",
       "    .dataframe tbody tr th {\n",
       "        vertical-align: top;\n",
       "    }\n",
       "\n",
       "    .dataframe thead th {\n",
       "        text-align: right;\n",
       "    }\n",
       "</style>\n",
       "<table border=\"1\" class=\"dataframe\">\n",
       "  <thead>\n",
       "    <tr style=\"text-align: right;\">\n",
       "      <th></th>\n",
       "      <th>user_id</th>\n",
       "      <th>exercise</th>\n",
       "      <th>prediction</th>\n",
       "    </tr>\n",
       "  </thead>\n",
       "  <tbody>\n",
       "    <tr>\n",
       "      <th>0</th>\n",
       "      <td>00c795d5-5c6e-4e44-a803-c5f4bbacd7d0</td>\n",
       "      <td>FYR2 Squat Jump</td>\n",
       "      <td>6.0</td>\n",
       "    </tr>\n",
       "    <tr>\n",
       "      <th>1</th>\n",
       "      <td>00c795d5-5c6e-4e44-a803-c5f4bbacd7d0</td>\n",
       "      <td>EZ-bar skullcrusher-</td>\n",
       "      <td>6.0</td>\n",
       "    </tr>\n",
       "    <tr>\n",
       "      <th>2</th>\n",
       "      <td>00c795d5-5c6e-4e44-a803-c5f4bbacd7d0</td>\n",
       "      <td>Feet-elevated crunch</td>\n",
       "      <td>6.0</td>\n",
       "    </tr>\n",
       "    <tr>\n",
       "      <th>3</th>\n",
       "      <td>00c795d5-5c6e-4e44-a803-c5f4bbacd7d0</td>\n",
       "      <td>Head-on-bench dumbbell rear delt raise</td>\n",
       "      <td>6.0</td>\n",
       "    </tr>\n",
       "    <tr>\n",
       "      <th>4</th>\n",
       "      <td>00c795d5-5c6e-4e44-a803-c5f4bbacd7d0</td>\n",
       "      <td>On-Your-Back Quad Stretch</td>\n",
       "      <td>6.0</td>\n",
       "    </tr>\n",
       "  </tbody>\n",
       "</table>\n",
       "</div>"
      ],
      "text/plain": [
       "                                user_id  \\\n",
       "0  00c795d5-5c6e-4e44-a803-c5f4bbacd7d0   \n",
       "1  00c795d5-5c6e-4e44-a803-c5f4bbacd7d0   \n",
       "2  00c795d5-5c6e-4e44-a803-c5f4bbacd7d0   \n",
       "3  00c795d5-5c6e-4e44-a803-c5f4bbacd7d0   \n",
       "4  00c795d5-5c6e-4e44-a803-c5f4bbacd7d0   \n",
       "\n",
       "                                 exercise  prediction  \n",
       "0                         FYR2 Squat Jump         6.0  \n",
       "1                    EZ-bar skullcrusher-         6.0  \n",
       "2                    Feet-elevated crunch         6.0  \n",
       "3  Head-on-bench dumbbell rear delt raise         6.0  \n",
       "4               On-Your-Back Quad Stretch         6.0  "
      ]
     },
     "execution_count": 95,
     "metadata": {},
     "output_type": "execute_result"
    }
   ],
   "source": [
    "top_k_seen.head()"
   ]
  },
  {
   "cell_type": "code",
   "execution_count": 96,
   "metadata": {},
   "outputs": [
    {
     "data": {
      "text/html": [
       "<div>\n",
       "<style scoped>\n",
       "    .dataframe tbody tr th:only-of-type {\n",
       "        vertical-align: middle;\n",
       "    }\n",
       "\n",
       "    .dataframe tbody tr th {\n",
       "        vertical-align: top;\n",
       "    }\n",
       "\n",
       "    .dataframe thead th {\n",
       "        text-align: right;\n",
       "    }\n",
       "</style>\n",
       "<table border=\"1\" class=\"dataframe\">\n",
       "  <thead>\n",
       "    <tr style=\"text-align: right;\">\n",
       "      <th></th>\n",
       "      <th>user_id</th>\n",
       "      <th>exercise</th>\n",
       "      <th>prediction</th>\n",
       "    </tr>\n",
       "  </thead>\n",
       "  <tbody>\n",
       "    <tr>\n",
       "      <th>60</th>\n",
       "      <td>18f1f629-ed5b-4d9d-ae1f-c60982f40d1f</td>\n",
       "      <td>UP Seated Dumbbell Overhead Press</td>\n",
       "      <td>0.566667</td>\n",
       "    </tr>\n",
       "    <tr>\n",
       "      <th>70</th>\n",
       "      <td>1a5be596-f03b-4357-bc43-dcf5542c4eb2</td>\n",
       "      <td>HM Right Calf-Spike Sumo Pulse</td>\n",
       "      <td>0.500000</td>\n",
       "    </tr>\n",
       "    <tr>\n",
       "      <th>90</th>\n",
       "      <td>1dbfabf4-9ca7-41db-8540-a01f2d6e0311</td>\n",
       "      <td>Holman Daisy Cutter</td>\n",
       "      <td>0.333333</td>\n",
       "    </tr>\n",
       "    <tr>\n",
       "      <th>120</th>\n",
       "      <td>24d24c6f-6093-47d2-873f-4dbb4a9b0e5d</td>\n",
       "      <td>Holman Weighted Killer Abs with Overhead Press</td>\n",
       "      <td>0.666667</td>\n",
       "    </tr>\n",
       "    <tr>\n",
       "      <th>121</th>\n",
       "      <td>24d24c6f-6093-47d2-873f-4dbb4a9b0e5d</td>\n",
       "      <td>Sled Overhead Triceps Extension</td>\n",
       "      <td>0.666667</td>\n",
       "    </tr>\n",
       "  </tbody>\n",
       "</table>\n",
       "</div>"
      ],
      "text/plain": [
       "                                  user_id  \\\n",
       "60   18f1f629-ed5b-4d9d-ae1f-c60982f40d1f   \n",
       "70   1a5be596-f03b-4357-bc43-dcf5542c4eb2   \n",
       "90   1dbfabf4-9ca7-41db-8540-a01f2d6e0311   \n",
       "120  24d24c6f-6093-47d2-873f-4dbb4a9b0e5d   \n",
       "121  24d24c6f-6093-47d2-873f-4dbb4a9b0e5d   \n",
       "\n",
       "                                           exercise  prediction  \n",
       "60                UP Seated Dumbbell Overhead Press    0.566667  \n",
       "70                   HM Right Calf-Spike Sumo Pulse    0.500000  \n",
       "90                              Holman Daisy Cutter    0.333333  \n",
       "120  Holman Weighted Killer Abs with Overhead Press    0.666667  \n",
       "121                 Sled Overhead Triceps Extension    0.666667  "
      ]
     },
     "execution_count": 96,
     "metadata": {},
     "output_type": "execute_result"
    }
   ],
   "source": [
    "top_k_not_seen.head()"
   ]
  },
  {
   "cell_type": "code",
   "execution_count": null,
   "metadata": {},
   "outputs": [],
   "source": []
  },
  {
   "cell_type": "code",
   "execution_count": null,
   "metadata": {},
   "outputs": [],
   "source": []
  }
 ],
 "metadata": {
  "kernelspec": {
   "display_name": ".venvml",
   "language": "python",
   "name": "python3"
  },
  "language_info": {
   "codemirror_mode": {
    "name": "ipython",
    "version": 3
   },
   "file_extension": ".py",
   "mimetype": "text/x-python",
   "name": "python",
   "nbconvert_exporter": "python",
   "pygments_lexer": "ipython3",
   "version": "3.11.0"
  },
  "orig_nbformat": 4,
  "vscode": {
   "interpreter": {
    "hash": "80eaecc3cba2b61b3010597d0414d58b09786d9cbd35dc4e45c1b1d456940a63"
   }
  }
 },
 "nbformat": 4,
 "nbformat_minor": 2
}
