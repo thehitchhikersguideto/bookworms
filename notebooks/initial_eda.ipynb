{
 "cells": [
  {
   "attachments": {},
   "cell_type": "markdown",
   "metadata": {},
   "source": [
    "# Initial EDA\n",
    "Timestamp: 2021-05-03 \n",
    "\n",
    "This file contains the initial evaluation/notes about the data. "
   ]
  }
 ],
 "metadata": {
  "language_info": {
   "name": "python"
  },
  "orig_nbformat": 4
 },
 "nbformat": 4,
 "nbformat_minor": 2
}
