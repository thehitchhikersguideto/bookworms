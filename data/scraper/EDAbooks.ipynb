{
 "cells": [
  {
   "cell_type": "code",
   "execution_count": null,
   "metadata": {},
   "outputs": [],
   "source": [
    "import pandas as pd\n",
    "import numpy as np"
   ]
  },
  {
   "cell_type": "code",
   "execution_count": null,
   "metadata": {},
   "outputs": [],
   "source": [
    "# EDA for books.txt\n",
    "# Path: gymworkouts\\EDAbooks.ipynb\n",
    "# Load data\n",
    "# Build a dataframe using the good reads scraper found on github\n",
    "# Check for duplicates\n",
    "# Check for missing values\n",
    "# Check for outliers"
   ]
  },
  {
   "cell_type": "code",
   "execution_count": null,
   "metadata": {},
   "outputs": [],
   "source": [
    "# Load data by reading each line of the file and placeing it into a list, this needs to be done using generators in order to save memory for large files\n",
    "filePath = 'books.txt'\n",
    "def load_data(file_path):\n",
    "    with open(file_path, 'r') as f:\n",
    "        for line in f:\n",
    "            yield line"
   ]
  }
 ],
 "metadata": {
  "language_info": {
   "name": "python"
  },
  "orig_nbformat": 4
 },
 "nbformat": 4,
 "nbformat_minor": 2
}
