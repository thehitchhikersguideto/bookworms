{
 "cells": [
  {
   "cell_type": "code",
   "execution_count": 1,
   "metadata": {},
   "outputs": [],
   "source": [
    "from urllib.request import urlopen\n",
    "import bs4\n",
    "import logging"
   ]
  },
  {
   "cell_type": "code",
   "execution_count": 2,
   "metadata": {},
   "outputs": [],
   "source": [
    "logging.basicConfig(\n",
    "        filemode=\"w\"\n",
    "    )"
   ]
  },
  {
   "cell_type": "code",
   "execution_count": 3,
   "metadata": {},
   "outputs": [],
   "source": [
    "# Using beautiful soup load our initial page\n",
    "\n",
    "# Our starting page is the genres list\n",
    "# https://www.goodreads.com/genres/list\n",
    "# On each page we want to go thrrough each genre and get the top 100 books\n",
    "# We want to automatically fetch each genre page\n",
    "\n",
    "# Grab the genres with the a class, only return the href\n",
    "def grab_genres(page = 1):\n",
    "    if page == 1:\n",
    "        source = urlopen('https://www.goodreads.com/genres/list')\n",
    "    else:\n",
    "        source = urlopen('https://www.goodreads.com/genres/list?page=' + str(page))\n",
    "    soup = bs4.BeautifulSoup(source, 'lxml')\n",
    "    logging.basicConfig(filename='goodReadsRandScrape.log', level=logging.DEBUG)\n",
    "    genres = [node['href'] for node in soup.find_all('a', {'class': 'mediumText actionLinkLite'})]\n",
    "    # Remove the /genres/ from the href\n",
    "    genres = [genre.split('/')[-1] for genre in genres]\n",
    "    # Log the genres\n",
    "    if genres:\n",
    "        logging.info(\"Fetched genres\")\n",
    "        logging.info(\"Genre count: \" + str(len(genres)))\n",
    "        logging.info(\"Genres: \" + str(genres[:5]) + \"...\")\n",
    "    return genres\n",
    "\n",
    "def grab_lists(genre):\n",
    "    logging.info(\"Fetching lists for \" + genre)\n",
    "    source = urlopen('https://www.goodreads.com/list/tag/' + genre)\n",
    "    soup = bs4.BeautifulSoup(source, 'lxml')\n",
    "    listTags = [node['href'] for node in soup.find_all('a', {'class': 'listTitle'})]\n",
    "    if listTags:\n",
    "        logging.info(\"Fetched lists\")\n",
    "        logging.info(\"List count: \" + str(len(listTags)))\n",
    "        logging.info(\"Lists: \" + str(listTags[:5]) + \"...\")\n",
    "    else:\n",
    "        logging.info(\"No lists found\")\n",
    "    return listTags\n",
    "\n",
    "def grab_books(listTag):\n",
    "    logging.info(\"Fetching books for \" + listTag)\n",
    "    source = urlopen('https://www.goodreads.com' + listTag)\n",
    "    soup = bs4.BeautifulSoup(source, 'lxml')\n",
    "    bookList = [node['href'] for node in soup.find_all('a', {'class': 'bookTitle'})]\n",
    "    if bookList:\n",
    "        logging.info(\"Fetched books\")\n",
    "        logging.info(\"Book count: \" + str(len(bookList)))\n",
    "        logging.info(\"Books: \" + str(bookList[:5]) + \"...\")\n",
    "    else:\n",
    "        logging.info(\"No books found\")\n",
    "    return bookList\n",
    "\n",
    "\n",
    "# Got to the genre page\n",
    "def fetchBooks():\n",
    "    # For loop representing the pages of genres, 1-14\n",
    "    for i in range(1, 15):\n",
    "        genres = grab_genres(i)\n",
    "        for genre in genres:\n",
    "            lists = grab_lists(genre)\n",
    "            logging.info(\"List count: \" + str(len(lists)))\n",
    "            for list in lists:\n",
    "                books = grab_books(list)\n",
    "                logging.info(\"Book count: \" + str(len(books)))\n",
    "                # Write to href of each book to a file\n",
    "                with open('books.txt', 'a') as f:\n",
    "                    for book in books:\n",
    "                        # Remove the /book/show/ from the href\n",
    "                        book = book.split('/')[-1]\n",
    "                        # Add a new line inbetween each book\n",
    "                        f.write(book + '\\n')\n"
   ]
  }
 ],
 "metadata": {
  "kernelspec": {
   "display_name": ".venv",
   "language": "python",
   "name": "python3"
  },
  "language_info": {
   "codemirror_mode": {
    "name": "ipython",
    "version": 3
   },
   "file_extension": ".py",
   "mimetype": "text/x-python",
   "name": "python",
   "nbconvert_exporter": "python",
   "pygments_lexer": "ipython3",
   "version": "3.10.4"
  },
  "orig_nbformat": 4
 },
 "nbformat": 4,
 "nbformat_minor": 2
}
