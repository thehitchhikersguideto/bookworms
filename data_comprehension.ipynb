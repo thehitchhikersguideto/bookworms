{
 "cells": [
  {
   "cell_type": "code",
   "execution_count": 4,
   "metadata": {},
   "outputs": [],
   "source": [
    "\n",
    "# imports\n",
    "import pandas as pd\n",
    "import numpy as np\n",
    "import matplotlib.pyplot as plt\n",
    "import os\n",
    "import tensorflow as ts\n",
    "import keras\n",
    "\n",
    "\n",
    "\n"
   ]
  },
  {
   "cell_type": "code",
   "execution_count": 30,
   "metadata": {},
   "outputs": [
    {
     "name": "stdout",
     "output_type": "stream",
     "text": [
      "<class 'pandas.core.frame.DataFrame'>\n",
      "RangeIndex: 2918 entries, 0 to 2917\n",
      "Data columns (total 9 columns):\n",
      " #   Column      Non-Null Count  Dtype  \n",
      "---  ------      --------------  -----  \n",
      " 0   Unnamed: 0  2918 non-null   int64  \n",
      " 1   Title       2918 non-null   object \n",
      " 2   Desc        1368 non-null   object \n",
      " 3   Type        2918 non-null   object \n",
      " 4   BodyPart    2918 non-null   object \n",
      " 5   Equipment   2918 non-null   object \n",
      " 6   Level       2918 non-null   object \n",
      " 7   Rating      1031 non-null   float64\n",
      " 8   RatingDesc  862 non-null    object \n",
      "dtypes: float64(1), int64(1), object(7)\n",
      "memory usage: 205.3+ KB\n"
     ]
    }
   ],
   "source": [
    "raw_data = pd.read_csv('megaGymDataset.csv')\n",
    "raw_data.head()\n",
    "raw_data.info()"
   ]
  },
  {
   "cell_type": "code",
   "execution_count": 25,
   "metadata": {},
   "outputs": [
    {
     "data": {
      "text/plain": [
       "{'Unnamed: 0': array([   0,    1,    2, ..., 2915, 2916, 2917]),\n",
       " 'Title': array(['Partner plank band row', 'Banded crunch isometric hold',\n",
       "        'FYR Banded Plank Jack', ...,\n",
       "        'EZ-Bar Skullcrusher - Gethin Variation', 'TBS Skullcrusher',\n",
       "        '30 Arms EZ-Bar Skullcrusher'], dtype=object),\n",
       " 'Desc': array(['The partner plank band row is an abdominal exercise where two partners perform single-arm planks while pulling on the opposite ends of an exercise band. This technique can be done for time or reps in any ab-focused workout.',\n",
       "        'The banded crunch isometric hold is an exercise targeting the abdominal muscles, particularly the rectus abdominis or \"six-pack\" muscles. The band adds resistance and continuous tension to this popular exercise.',\n",
       "        'The banded plank jack is a variation on the plank that involves moving the legs in and out for repetitions. Having a band around the thighs forces the lower body to work harder, particularly the hips and glutes. The plank jack is commonly performed as part of a bodyweight circuit, or as part of a dynamic warm-up.',\n",
       "        ...,\n",
       "        'The bench dip is a highly effective exercise for building the triceps. The resistance comes from the body itself, rather than added weight.',\n",
       "        'The decline EZ-bar skullcrusher is a popular exercise targeting the triceps muscles. The angle of the bench creates a greater range of motion than flat bench skullcrushers, as well as targeting the lateral head of the muscle. This exercise is usually performed for moderate to high reps as part of an upper-body or arm-focused workout.',\n",
       "        'The EZ-bar skullcrusher is a popular exercise targeting the triceps muscles. Contrary to what the name implies, the bar should actually come down behind the head. It is usually performed for moderate to high reps as part of an upper-body or arms-focused workout.'],\n",
       "       dtype=object),\n",
       " 'Type': array(['Strength', 'Plyometrics', 'Cardio', 'Stretching', 'Powerlifting',\n",
       "        'Strongman', 'Olympic Weightlifting'], dtype=object),\n",
       " 'BodyPart': array(['Abdominals', 'Adductors', 'Abductors', 'Biceps', 'Calves',\n",
       "        'Chest', 'Forearms', 'Glutes', 'Hamstrings', 'Lats', 'Lower Back',\n",
       "        'Middle Back', 'Traps', 'Neck', 'Quadriceps', 'Shoulders',\n",
       "        'Triceps'], dtype=object),\n",
       " 'Equipment': array(['Bands', 'Barbell', 'Kettlebells', 'Dumbbell', 'Other', 'Cable',\n",
       "        'Machine', 'Body Only', 'Medicine Ball', 'None', 'Exercise Ball',\n",
       "        'Foam Roll', 'E-Z Curl Bar'], dtype=object),\n",
       " 'Level': array(['Intermediate', 'Beginner', 'Expert'], dtype=object),\n",
       " 'Rating': array([0. , nan, 8.9, 8.5, 8.3, 7. , 4.7, 7.7, 7.3, 9.3, 8.6, 9.5, 9.2,\n",
       "        9. , 8.8, 8.4, 8. , 9.1, 8.2, 8.1, 7.9, 5. , 8.7, 7.8, 7.5, 7.4,\n",
       "        6.9, 6.5, 3.9, 6.4, 4. , 2.8, 6.7, 3.8, 2.4, 1.6, 7.1, 3.6, 3.2,\n",
       "        5.8, 7.6, 7.2, 4.8, 3.3, 1. , 6. , 5.3, 2.7, 6.3, 5.6, 4.1, 4.9,\n",
       "        4.2, 5.5, 5.9, 3. , 9.4, 6.2, 9.6, 2.5, 5.2, 6.6, 3.5, 3.1, 4.4,\n",
       "        4.3, 5.4, 4.5, 5.1, 5.7, 6.8, 3.4, 6.1]),\n",
       " 'RatingDesc': array([nan, 'Average'], dtype=object)}"
      ]
     },
     "execution_count": 25,
     "metadata": {},
     "output_type": "execute_result"
    }
   ],
   "source": [
    "# get the unique valyes for each column \n",
    "raw_data.nunique()\n",
    "# create a list of each unique value \n",
    "uniquevalues = {}\n",
    "for column in raw_data.columns:\n",
    "    uniquevalues[column] = raw_data[column].unique()\n",
    "uniquevalues"
   ]
  },
  {
   "cell_type": "code",
   "execution_count": 56,
   "metadata": {},
   "outputs": [],
   "source": [
    "from faker import Faker\n",
    "import random\n",
    "\n",
    "faker = Faker()\n",
    "\n",
    "# List of possible exercise names\n",
    "exercise_names = raw_data['Type'].unique()\n",
    "\n",
    "# List of user IDs\n",
    "user_ids = [faker.uuid4() for i in range(100)]\n",
    "\n",
    "# Generate 3000 rows of data\n",
    "data = []\n",
    "rated_exercises_by_user = {}\n",
    "for i in range(6000):\n",
    "    # Randomly select a user ID\n",
    "    user_id = random.choice(user_ids)\n",
    "\n",
    "    # Randomly select an exercise that hasn't been rated by this user before\n",
    "    rated_exercises = rated_exercises_by_user.get(user_id, set())\n",
    "    remaining_exercises = set(exercise_names) - rated_exercises\n",
    "    if len(remaining_exercises) == 0:\n",
    "        # This user has rated all the exercises\n",
    "        continue\n",
    "    exercise = random.choice(list(remaining_exercises))\n",
    "\n",
    "    # Generate a random rating between 1 and 5\n",
    "    rating = random.randint(1, 5)\n",
    "\n",
    "    # Add this exercise to the set of exercises rated by this user\n",
    "    rated_exercises.add(exercise)\n",
    "    rated_exercises_by_user[user_id] = rated_exercises\n",
    "\n",
    "    # Append the data to the list\n",
    "    data.append((user_id, exercise, rating))\n",
    "\n",
    "\n"
   ]
  },
  {
   "cell_type": "code",
   "execution_count": 57,
   "metadata": {},
   "outputs": [],
   "source": [
    "data = pd.DataFrame(data, columns=['user_id', 'exercise', 'rating'])\n"
   ]
  },
  {
   "cell_type": "code",
   "execution_count": 58,
   "metadata": {},
   "outputs": [
    {
     "data": {
      "text/html": [
       "<div>\n",
       "<style scoped>\n",
       "    .dataframe tbody tr th:only-of-type {\n",
       "        vertical-align: middle;\n",
       "    }\n",
       "\n",
       "    .dataframe tbody tr th {\n",
       "        vertical-align: top;\n",
       "    }\n",
       "\n",
       "    .dataframe thead th {\n",
       "        text-align: right;\n",
       "    }\n",
       "</style>\n",
       "<table border=\"1\" class=\"dataframe\">\n",
       "  <thead>\n",
       "    <tr style=\"text-align: right;\">\n",
       "      <th></th>\n",
       "      <th></th>\n",
       "      <th>rating</th>\n",
       "    </tr>\n",
       "    <tr>\n",
       "      <th>user_id</th>\n",
       "      <th>exercise</th>\n",
       "      <th></th>\n",
       "    </tr>\n",
       "  </thead>\n",
       "  <tbody>\n",
       "    <tr>\n",
       "      <th>01986be8-546c-4ebe-bb1f-025217c891eb</th>\n",
       "      <th>Cardio</th>\n",
       "      <td>1</td>\n",
       "    </tr>\n",
       "    <tr>\n",
       "      <th>b50d2488-b884-42c6-85c9-a9bbdea131d0</th>\n",
       "      <th>Olympic Weightlifting</th>\n",
       "      <td>1</td>\n",
       "    </tr>\n",
       "    <tr>\n",
       "      <th rowspan=\"3\" valign=\"top\">b156b73d-53da-4c25-9c5a-0ee73f564d81</th>\n",
       "      <th>Cardio</th>\n",
       "      <td>1</td>\n",
       "    </tr>\n",
       "    <tr>\n",
       "      <th>Olympic Weightlifting</th>\n",
       "      <td>1</td>\n",
       "    </tr>\n",
       "    <tr>\n",
       "      <th>Plyometrics</th>\n",
       "      <td>1</td>\n",
       "    </tr>\n",
       "    <tr>\n",
       "      <th>...</th>\n",
       "      <th>...</th>\n",
       "      <td>...</td>\n",
       "    </tr>\n",
       "    <tr>\n",
       "      <th rowspan=\"4\" valign=\"top\">583fb54a-02d5-44fe-a7f5-c615b8272e51</th>\n",
       "      <th>Powerlifting</th>\n",
       "      <td>1</td>\n",
       "    </tr>\n",
       "    <tr>\n",
       "      <th>Strength</th>\n",
       "      <td>1</td>\n",
       "    </tr>\n",
       "    <tr>\n",
       "      <th>Stretching</th>\n",
       "      <td>1</td>\n",
       "    </tr>\n",
       "    <tr>\n",
       "      <th>Strongman</th>\n",
       "      <td>1</td>\n",
       "    </tr>\n",
       "    <tr>\n",
       "      <th>ff3efa17-8fc2-4526-a498-a57d4f977799</th>\n",
       "      <th>Strongman</th>\n",
       "      <td>1</td>\n",
       "    </tr>\n",
       "  </tbody>\n",
       "</table>\n",
       "<p>700 rows × 1 columns</p>\n",
       "</div>"
      ],
      "text/plain": [
       "                                                            rating\n",
       "user_id                              exercise                     \n",
       "01986be8-546c-4ebe-bb1f-025217c891eb Cardio                      1\n",
       "b50d2488-b884-42c6-85c9-a9bbdea131d0 Olympic Weightlifting       1\n",
       "b156b73d-53da-4c25-9c5a-0ee73f564d81 Cardio                      1\n",
       "                                     Olympic Weightlifting       1\n",
       "                                     Plyometrics                 1\n",
       "...                                                            ...\n",
       "583fb54a-02d5-44fe-a7f5-c615b8272e51 Powerlifting                1\n",
       "                                     Strength                    1\n",
       "                                     Stretching                  1\n",
       "                                     Strongman                   1\n",
       "ff3efa17-8fc2-4526-a498-a57d4f977799 Strongman                   1\n",
       "\n",
       "[700 rows x 1 columns]"
      ]
     },
     "execution_count": 58,
     "metadata": {},
     "output_type": "execute_result"
    }
   ],
   "source": [
    "# check if there is any user id that has rated the same exercise more than once\n",
    "data.groupby(['user_id', 'exercise']).count().sort_values('rating', ascending=False)\n"
   ]
  },
  {
   "cell_type": "code",
   "execution_count": 53,
   "metadata": {},
   "outputs": [
    {
     "data": {
      "text/plain": [
       "2909"
      ]
     },
     "execution_count": 53,
     "metadata": {},
     "output_type": "execute_result"
    }
   ],
   "source": [
    "# get the number of exericses \n",
    "raw_data['Title'].nunique()\n"
   ]
  },
  {
   "cell_type": "code",
   "execution_count": null,
   "metadata": {},
   "outputs": [],
   "source": []
  }
 ],
 "metadata": {
  "kernelspec": {
   "display_name": ".venvgymreco",
   "language": "python",
   "name": "python3"
  },
  "language_info": {
   "codemirror_mode": {
    "name": "ipython",
    "version": 3
   },
   "file_extension": ".py",
   "mimetype": "text/x-python",
   "name": "python",
   "nbconvert_exporter": "python",
   "pygments_lexer": "ipython3",
   "version": "3.9.7"
  },
  "orig_nbformat": 4,
  "vscode": {
   "interpreter": {
    "hash": "0c18bf4eccb55c3ab511d6d2b7441a8018a03e56613ca33128befe7a2270577e"
   }
  }
 },
 "nbformat": 4,
 "nbformat_minor": 2
}
